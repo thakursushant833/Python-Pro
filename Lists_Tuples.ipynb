{
 "cells": [
  {
   "cell_type": "markdown",
   "id": "26f05651",
   "metadata": {},
   "source": [
    "# List"
   ]
  },
  {
   "cell_type": "code",
   "execution_count": 1,
   "id": "084e88da-c454-4e6a-8118-11c1de1c53b0",
   "metadata": {},
   "outputs": [
    {
     "ename": "SyntaxError",
     "evalue": "invalid syntax (3512601146.py, line 1)",
     "output_type": "error",
     "traceback": [
      "  \u001b[36mCell\u001b[39m\u001b[36m \u001b[39m\u001b[32mIn[1]\u001b[39m\u001b[32m, line 1\u001b[39m\n\u001b[31m    \u001b[39m\u001b[31mIn Python, a list is a collection of ordered, mutable, and heterogeneous elements.\u001b[39m\n       ^\n\u001b[31mSyntaxError\u001b[39m\u001b[31m:\u001b[39m invalid syntax\n"
     ]
    }
   ],
   "source": [
    "In Python, a list is a collection of ordered, mutable, and heterogeneous elements.\n",
    "Lists are defined using square brackets [ ] and can contain elements of any data type, including other lists.\n",
    "Lists are useful for representing sequences of elements, such as collections of numbers, strings, or other objects \n",
    "Lists are used in Python to store collections of items\n",
    "You can access, modify, and manipulate list elements using various built-in functions and operations, such as indexing, slicing, adding, removing, and sorting elements.\n",
    "Access Items:"
   ]
  },
  {
   "cell_type": "code",
   "execution_count": 1,
   "id": "3944c411",
   "metadata": {},
   "outputs": [
    {
     "name": "stdout",
     "output_type": "stream",
     "text": [
      "6\n"
     ]
    }
   ],
   "source": [
    "a = [1,2,3,'palash', [1,2,3,4], 5]\n",
    "print(len(a))"
   ]
  },
  {
   "cell_type": "code",
   "execution_count": 20,
   "id": "f2247419-552f-46d3-8217-9928581b0e32",
   "metadata": {},
   "outputs": [
    {
     "name": "stdout",
     "output_type": "stream",
     "text": [
      "<class 'list'>\n",
      "['ramesh', 'ram', 'radha', 8]\n",
      "[2]\n",
      "4\n"
     ]
    }
   ],
   "source": [
    "b=[\"ramesh\",\"ram\",\"radha\",8]\n",
    "print(type(b))\n",
    "print(b)\n",
    "print([2])\n",
    "print(len(b))"
   ]
  },
  {
   "cell_type": "code",
   "execution_count": 24,
   "id": "793a4e3e-7fd0-4307-b719-e6d16aa0dc66",
   "metadata": {},
   "outputs": [
    {
     "name": "stdout",
     "output_type": "stream",
     "text": [
      "6\n",
      "<class 'list'>\n"
     ]
    }
   ],
   "source": [
    "l=[2,4,\"apple\",6,[2,4],\"ram\"]\n",
    "print(len(l))\n",
    "print(type(l))"
   ]
  },
  {
   "cell_type": "code",
   "execution_count": 25,
   "id": "6703bb60",
   "metadata": {},
   "outputs": [
    {
     "name": "stdout",
     "output_type": "stream",
     "text": [
      "5\n",
      "[5.0, [7, 8, 9]]\n",
      "<class 'list'>\n"
     ]
    }
   ],
   "source": [
    "l=[2,\"mishra\",5.0,[7,8,9],(8,9)] \n",
    "print(len(l))\n",
    "a=l[2:4]\n",
    "print(a)\n",
    "#c=l[-4]\n",
    "print(type(a))"
   ]
  },
  {
   "cell_type": "code",
   "execution_count": 26,
   "id": "28e6ed1b",
   "metadata": {},
   "outputs": [
    {
     "name": "stdout",
     "output_type": "stream",
     "text": [
      "9\n",
      "<class 'list'>\n"
     ]
    },
    {
     "data": {
      "text/plain": [
       "[1, 2, 3, 4, 5, 'rahul', (8, 7), 7, [7, 8, 98]]"
      ]
     },
     "execution_count": 26,
     "metadata": {},
     "output_type": "execute_result"
    }
   ],
   "source": [
    "a=[1,2,3,4,5,\"rahul\",(8,7),7,[7,8,98]]\n",
    "print(len(a))\n",
    "print(type(a))"
   ]
  },
  {
   "cell_type": "code",
   "execution_count": 9,
   "id": "cb44fc10",
   "metadata": {},
   "outputs": [
    {
     "name": "stdout",
     "output_type": "stream",
     "text": [
      "10\n"
     ]
    },
    {
     "data": {
      "text/plain": [
       "[1, 2, 3, 4, 3.4, 5.6, 'hunny', [8, 9, 7], [9, 0], (8, 9)]"
      ]
     },
     "execution_count": 9,
     "metadata": {},
     "output_type": "execute_result"
    }
   ],
   "source": [
    "a=[1,2,3,4,3.4,5.6,\"hunny\",[8,9,7],[9,0],(8,9)]\n",
    "print(len(a))\n",
    "#    1 2 3 4\n",
    "a"
   ]
  },
  {
   "cell_type": "code",
   "execution_count": 10,
   "id": "7f5b7327",
   "metadata": {},
   "outputs": [
    {
     "name": "stdout",
     "output_type": "stream",
     "text": [
      "[1, 2, 3, 4, 5]\n",
      "<class 'list'>\n"
     ]
    }
   ],
   "source": [
    "a=[1,2,3,4,5]\n",
    "print(a)\n",
    "print(type(a))"
   ]
  },
  {
   "cell_type": "code",
   "execution_count": 27,
   "id": "bde5a5ce",
   "metadata": {},
   "outputs": [],
   "source": [
    "a= \"ilearnpython\"\n",
    "b= a[6:10:-1]"
   ]
  },
  {
   "cell_type": "code",
   "execution_count": 28,
   "id": "7de1fb79",
   "metadata": {},
   "outputs": [
    {
     "name": "stdout",
     "output_type": "stream",
     "text": [
      "7\n"
     ]
    }
   ],
   "source": [
    "a=[1,2,3,9.0,\"karan\",[8,9],[7,5]]\n",
    "print(len(a))"
   ]
  },
  {
   "cell_type": "code",
   "execution_count": 19,
   "id": "b2c29d57",
   "metadata": {},
   "outputs": [
    {
     "name": "stdout",
     "output_type": "stream",
     "text": [
      "[1, 2, 3, 'sneh', 8.9, [2, 3, 4], [7, 8], (7, 8, 9)]\n",
      "8\n"
     ]
    }
   ],
   "source": [
    "a=[1,2,3,\"sneh\",8.9,[2,3,4],[7,8],(7,8,9)]\n",
    " \n",
    "#    1 2 3   4     5   6      7    8\n",
    "#     n-1=5-1=4\n",
    "print(a)\n",
    "#print(type(a))\n",
    "print(len(a))\n"
   ]
  },
  {
   "cell_type": "code",
   "execution_count": 6,
   "id": "a4a4ccc7",
   "metadata": {},
   "outputs": [
    {
     "name": "stdout",
     "output_type": "stream",
     "text": [
      "[1, 2, 'sanket', 'simran', [8, 9, 0], [6, 7, 8], [9, 8], 7]\n"
     ]
    }
   ],
   "source": [
    "A=[1,2,\"sanket\",\"simran\",[8,9,0],[6,7,8],[9,8],7]\n",
    "print(A)"
   ]
  },
  {
   "cell_type": "code",
   "execution_count": 20,
   "id": "799d2e01",
   "metadata": {},
   "outputs": [
    {
     "name": "stdout",
     "output_type": "stream",
     "text": [
      "[1, 2, 3, 4, 5, 6.0, [6, 7], [8, 9]]\n"
     ]
    }
   ],
   "source": [
    "y=[1,2,3,4,5,6.0,[6,7],[8,9]]\n",
    " \n",
    "print(y)"
   ]
  },
  {
   "cell_type": "markdown",
   "id": "3be5bcf1",
   "metadata": {},
   "source": [
    "- Lists are used in Python to store collections of items"
   ]
  },
  {
   "cell_type": "code",
   "execution_count": 30,
   "id": "435e63b7",
   "metadata": {},
   "outputs": [
    {
     "name": "stdout",
     "output_type": "stream",
     "text": [
      "[1, 'preet', 'tanu', 8.9]\n",
      "<class 'list'>\n"
     ]
    }
   ],
   "source": [
    "a=[1,\"preet\",\"tanu\",8.9]\n",
    "print(a)\n",
    "print(type(a))"
   ]
  },
  {
   "cell_type": "code",
   "execution_count": 31,
   "id": "53443787",
   "metadata": {},
   "outputs": [
    {
     "name": "stdout",
     "output_type": "stream",
     "text": [
      "8\n",
      "<class 'list'>\n",
      "[1, 2, 3, 'bhavya', [4, 5], [8, 9, 'raspreet'], [8, 9], 8]\n"
     ]
    }
   ],
   "source": [
    "num=[1,2,3,\"bhavya\",[4,5],[8,9,\"raspreet\"],[8,9],8]\n",
    "print(len(num))\n",
    "print(type(num))\n",
    "\n",
    "#      1 2  3  4         5      6                 7            8\n",
    "print(num)"
   ]
  },
  {
   "cell_type": "code",
   "execution_count": 23,
   "id": "61b87675",
   "metadata": {},
   "outputs": [
    {
     "name": "stdout",
     "output_type": "stream",
     "text": [
      "[1, 2, 3, 'akshit', 'harsh', 8.9, 6, 7]\n"
     ]
    }
   ],
   "source": [
    "b=[1,2,3,\"akshit\",\"harsh\",8.9,6,7]\n",
    "print(b)"
   ]
  },
  {
   "cell_type": "code",
   "execution_count": 7,
   "id": "8bbc84bf",
   "metadata": {},
   "outputs": [
    {
     "name": "stdout",
     "output_type": "stream",
     "text": [
      "['apple', 'ayush', 'aman']\n"
     ]
    }
   ],
   "source": [
    "a=[\"apple\",\"ayush\",\"aman\"]\n",
    "print(a)"
   ]
  },
  {
   "cell_type": "code",
   "execution_count": 24,
   "id": "e056f697",
   "metadata": {},
   "outputs": [
    {
     "name": "stdout",
     "output_type": "stream",
     "text": [
      "9\n",
      "<class 'str'>\n"
     ]
    }
   ],
   "source": [
    "a=[1,2,3,[7,8],[8,9],\"palash\", 34.6,45.6, 45+67j]\n",
    "print(len(a))\n",
    "print(type(a[5]))"
   ]
  },
  {
   "cell_type": "code",
   "execution_count": 25,
   "id": "a2ffa6ec",
   "metadata": {},
   "outputs": [
    {
     "name": "stdout",
     "output_type": "stream",
     "text": [
      "<class 'list'>\n"
     ]
    }
   ],
   "source": [
    "a=[1,2,3,4]\n",
    "#    0 1 2 3\n",
    "print(type(a))"
   ]
  },
  {
   "cell_type": "code",
   "execution_count": null,
   "id": "fcca33d9",
   "metadata": {},
   "outputs": [],
   "source": [
    "n=int(input(\"\"))\n",
    "\n",
    "n\n"
   ]
  },
  {
   "cell_type": "code",
   "execution_count": 34,
   "id": "0848caf5",
   "metadata": {},
   "outputs": [
    {
     "name": "stdout",
     "output_type": "stream",
     "text": [
      "<class 'list'>\n",
      "<class 'str'>\n",
      "<class 'float'>\n",
      "<class 'int'>\n"
     ]
    }
   ],
   "source": [
    "numbers = [1, 2, 3, 4, 5,\"aman\",6.7,7]\n",
    "print(type(numbers))\n",
    "print(type(numbers[5]))\n",
    "print(type(numbers[6]))\n",
    "print(type(numbers[7]))\n"
   ]
  },
  {
   "cell_type": "code",
   "execution_count": 7,
   "id": "a9f96408",
   "metadata": {},
   "outputs": [],
   "source": [
    "a=[1,2,3,[7,8],[6,9]]\n",
    "#    1 2 3  4\n",
    "# print(len(a))"
   ]
  },
  {
   "cell_type": "code",
   "execution_count": 6,
   "id": "60989e39",
   "metadata": {},
   "outputs": [
    {
     "name": "stdout",
     "output_type": "stream",
     "text": [
      "<class 'list'>\n"
     ]
    }
   ],
   "source": [
    "mixed_list = [1, \"hello\", 3.14, [\"another\", \"list\"]]\n",
    "print(type(mixed_list[3]))"
   ]
  },
  {
   "cell_type": "code",
   "execution_count": 10,
   "id": "0b3875f0",
   "metadata": {},
   "outputs": [
    {
     "name": "stdout",
     "output_type": "stream",
     "text": [
      "<class 'int'>\n"
     ]
    }
   ],
   "source": [
    "#for example\n",
    "# fruits = [\"apple\", \"banana\", \"cherry\"]\n",
    "# numbers = [1, 2, 3, 4, 5]\n",
    "# print(type(numbers[3]))\n",
    "mixed_list = [1, \"hello\", 3.14, [\"another\", \"list\"]]\n",
    "  \n",
    "#                0   1       2        3\n",
    "# print(type(mixed_list[0]))\n",
    "print(type(mixed_list[0]))"
   ]
  },
  {
   "cell_type": "code",
   "execution_count": 11,
   "id": "2a8edd60",
   "metadata": {},
   "outputs": [
    {
     "name": "stdout",
     "output_type": "stream",
     "text": [
      "<class 'int'>\n"
     ]
    }
   ],
   "source": [
    "a=2\n",
    "print(type(a))"
   ]
  },
  {
   "cell_type": "markdown",
   "id": "25c358ae",
   "metadata": {},
   "source": [
    "Access Items :"
   ]
  },
  {
   "cell_type": "code",
   "execution_count": 2,
   "id": "8c8ed881",
   "metadata": {},
   "outputs": [
    {
     "name": "stdout",
     "output_type": "stream",
     "text": [
      "apple\n"
     ]
    }
   ],
   "source": [
    "fruits = [\"apple\", \"banana\", \"cherry\"]\n",
    "#              0     1        2\n",
    "#             -3     -2       -1\n",
    "print(fruits[0])"
   ]
  },
  {
   "cell_type": "code",
   "execution_count": 3,
   "id": "d790c0bf-fe96-435c-a7ba-4e280ba4692d",
   "metadata": {},
   "outputs": [
    {
     "name": "stdout",
     "output_type": "stream",
     "text": [
      "[2, 45, 4, 5, 6]\n"
     ]
    }
   ],
   "source": [
    "a= [2,3,4,5,6]\n",
    "a[1]=45\n",
    "print(a)"
   ]
  },
  {
   "cell_type": "code",
   "execution_count": 5,
   "id": "ec6fce30-e5f5-43e5-acfa-287950285715",
   "metadata": {},
   "outputs": [
    {
     "name": "stdout",
     "output_type": "stream",
     "text": [
      "['apple', 'banana', '56', '57', '58']\n"
     ]
    }
   ],
   "source": [
    "thislist = [\"apple\", \"banana\", \"cherry\"]\n",
    "a=thislist[0:2]+[\"56\",\"57\",\"58\"]\n",
    "#print(type(a))\n",
    "print(a)"
   ]
  },
  {
   "cell_type": "markdown",
   "id": "3cf15b22",
   "metadata": {},
   "source": [
    "Change Item Value:"
   ]
  },
  {
   "cell_type": "code",
   "execution_count": 6,
   "id": "68331489",
   "metadata": {},
   "outputs": [
    {
     "name": "stdout",
     "output_type": "stream",
     "text": [
      "[[7, 8, 9], 'banana', 'cherry']\n"
     ]
    }
   ],
   "source": [
    "#Change the second item:\n",
    "#                 -3          -2        -1\n",
    "thislist = [\"apple\", \"banana\", \"cherry\"]\n",
    "thislist[0] = [7,8,9]\n",
    "print(thislist)"
   ]
  },
  {
   "cell_type": "code",
   "execution_count": 7,
   "id": "a0c4e42f",
   "metadata": {},
   "outputs": [
    {
     "name": "stdout",
     "output_type": "stream",
     "text": [
      "[10, 6, 7]\n",
      "10\n"
     ]
    }
   ],
   "source": [
    "a=[5,6,7]\n",
    "a[0]=10\n",
    "print(a)\n",
    "print(a[0])"
   ]
  },
  {
   "cell_type": "code",
   "execution_count": 35,
   "id": "925b78fa",
   "metadata": {},
   "outputs": [
    {
     "name": "stdout",
     "output_type": "stream",
     "text": [
      "<class 'list'>\n",
      "[2, 3, 4, 5, 6, 45, 'richard']\n"
     ]
    }
   ],
   "source": [
    "a=[2,3,4,5,6]\n",
    "a.append(45)\n",
    "a.append(\"richard\")\n",
    "\n",
    "\n",
    "print(a)"
   ]
  },
  {
   "cell_type": "code",
   "execution_count": 15,
   "id": "820ace92",
   "metadata": {},
   "outputs": [
    {
     "data": {
      "text/plain": [
       "[5, 6, 7, 8, 1, 2]"
      ]
     },
     "execution_count": 15,
     "metadata": {},
     "output_type": "execute_result"
    }
   ],
   "source": [
    "a=[5,6,7,8]\n",
    "a.extend([1,2])\n",
    "a"
   ]
  },
  {
   "cell_type": "code",
   "execution_count": 10,
   "id": "4a22ee6f",
   "metadata": {},
   "outputs": [
    {
     "name": "stdout",
     "output_type": "stream",
     "text": [
      "[1, 2, 67, 5, 90]\n",
      "5\n"
     ]
    }
   ],
   "source": [
    "a=[1,2,3]\n",
    "a[2]=67\n",
    "a.append(5)\n",
    "a.append(90)\n",
    "print(a)\n",
    "print(len(a))"
   ]
  },
  {
   "cell_type": "code",
   "execution_count": 16,
   "id": "3bf1f18c",
   "metadata": {},
   "outputs": [
    {
     "name": "stdout",
     "output_type": "stream",
     "text": [
      "[7, 8, 9, 8]\n"
     ]
    }
   ],
   "source": [
    "b=[7,8,9]\n",
    "b.append(8)\n",
    "print(b) "
   ]
  },
  {
   "cell_type": "markdown",
   "id": "7cdef57a",
   "metadata": {},
   "source": [
    "methods of list :"
   ]
  },
  {
   "cell_type": "markdown",
   "id": "e2dcb99f",
   "metadata": {},
   "source": [
    "- append() - Adds an element to the end of the list."
   ]
  },
  {
   "cell_type": "code",
   "execution_count": 17,
   "id": "cb2709e9",
   "metadata": {},
   "outputs": [
    {
     "name": "stdout",
     "output_type": "stream",
     "text": [
      "['apple', 'banana', 'cherry', [7, 8, 9]]\n"
     ]
    }
   ],
   "source": [
    "#Example\n",
    "fruits = ['apple', 'banana', 'cherry']\n",
    "# fruits.append('orange')\n",
    "fruits.append([7,8,9])\n",
    "print(fruits)\n"
   ]
  },
  {
   "cell_type": "code",
   "execution_count": 18,
   "id": "2c575b07",
   "metadata": {},
   "outputs": [
    {
     "name": "stdout",
     "output_type": "stream",
     "text": [
      "[1, 2, 3, 4, 5, 6]\n"
     ]
    }
   ],
   "source": [
    "a=[1,2,3]\n",
    "a.extend([4,5,6])\n",
    "print(a) "
   ]
  },
  {
   "cell_type": "markdown",
   "id": "119b757e",
   "metadata": {},
   "source": [
    "- extend() - Adds multiple elements to the end of the list."
   ]
  },
  {
   "cell_type": "code",
   "execution_count": 19,
   "id": "7a269e70",
   "metadata": {},
   "outputs": [
    {
     "name": "stdout",
     "output_type": "stream",
     "text": [
      "['apple', 'banana', 'cherry', 1, 2, 3, 5, 6]\n"
     ]
    }
   ],
   "source": [
    "#Eaxmple:\n",
    "fruits = ['apple', 'banana', 'cherry']\n",
    "fruits.extend([1,2,3,5,6])\n",
    "print(fruits)"
   ]
  },
  {
   "cell_type": "code",
   "execution_count": 20,
   "id": "cb7b6093",
   "metadata": {},
   "outputs": [
    {
     "name": "stdout",
     "output_type": "stream",
     "text": [
      "[12, 2, 3, 4, 55, 6, 7]\n"
     ]
    }
   ],
   "source": [
    "a=[12,2,3]\n",
    "b=[4,55,6,7]\n",
    "a.extend(b)\n",
    "print(a)"
   ]
  },
  {
   "cell_type": "markdown",
   "id": "a6ace0ae",
   "metadata": {},
   "source": [
    "mDifference between entend and append:"
   ]
  },
  {
   "cell_type": "code",
   "execution_count": 21,
   "id": "266c502b",
   "metadata": {},
   "outputs": [
    {
     "name": "stdout",
     "output_type": "stream",
     "text": [
      "[40, 50, 60, [10, 20, 30]]\n"
     ]
    }
   ],
   "source": [
    "l1 =[10,20,30]\n",
    "l2=[40,50,60]\n",
    "l2.append(l1)\n",
    "print(l2)\n",
    "# print(len(l2))\n",
    "\n"
   ]
  },
  {
   "cell_type": "code",
   "execution_count": null,
   "id": "79e31fcc",
   "metadata": {},
   "outputs": [],
   "source": []
  },
  {
   "cell_type": "code",
   "execution_count": 22,
   "id": "28602229",
   "metadata": {},
   "outputs": [
    {
     "name": "stdout",
     "output_type": "stream",
     "text": [
      "[10, 20, 30, 40, 50, 60, 45, 'hello']\n",
      "8\n"
     ]
    }
   ],
   "source": [
    "#Extend:\n",
    "l1 =[10,20,30]\n",
    "l2 =[40,50,60,45,'hello']\n",
    "\n",
    "l1.extend(l2)\n",
    "print(l1)\n",
    "\n",
    "print(len(l1))"
   ]
  },
  {
   "cell_type": "markdown",
   "id": "0cd0e5f1",
   "metadata": {},
   "source": [
    "- insert() - Adds an element at a specified index in the list."
   ]
  },
  {
   "cell_type": "code",
   "execution_count": 41,
   "id": "d7a688fd",
   "metadata": {},
   "outputs": [
    {
     "name": "stdout",
     "output_type": "stream",
     "text": [
      "['apple', 'banana', 'cherry']\n",
      "['hey richard', 'Hey thandy', 'cherry']\n"
     ]
    }
   ],
   "source": [
    "#Eaxmple:\n",
    "fruits = ['apple', 'banana', 'cherry']\n",
    "print(fruits)\n",
    "fruits.insert(1, \"hey richard\")\n",
    "fruits.remove(\"apple\")\n",
    "fruits[1]=\"Hey thandy\"\n",
    "print(fruits)"
   ]
  },
  {
   "cell_type": "code",
   "execution_count": 24,
   "id": "159bab8a-f809-4e41-a61e-65ce86a7c7dd",
   "metadata": {},
   "outputs": [
    {
     "name": "stdout",
     "output_type": "stream",
     "text": [
      "[1, 2, 3, 3, 4, 5, 6]\n"
     ]
    }
   ],
   "source": [
    "a=[1,2,3,3,3,4,5,6]\n",
    "a.remove(3)\n",
    "print(a)"
   ]
  },
  {
   "cell_type": "markdown",
   "id": "f79eb5b6",
   "metadata": {},
   "source": [
    "- remove() - Removes an element from the list."
   ]
  },
  {
   "cell_type": "code",
   "execution_count": 25,
   "id": "7f3b66e1",
   "metadata": {},
   "outputs": [
    {
     "name": "stdout",
     "output_type": "stream",
     "text": [
      "['apple', 'banana', 'cherry', 1]\n"
     ]
    }
   ],
   "source": [
    "#Eaxmple:\n",
    "fruits = ['apple', 'banana', 'cherry',\"cherry\",1]\n",
    "fruits.remove('cherry')\n",
    "\n",
    "print(fruits)"
   ]
  },
  {
   "cell_type": "code",
   "execution_count": 37,
   "id": "b861ff07",
   "metadata": {},
   "outputs": [
    {
     "name": "stdout",
     "output_type": "stream",
     "text": [
      "['apple', 'banana', 'cherry']\n"
     ]
    }
   ],
   "source": [
    "#Eaxmple:\n",
    "fruits = ['apple', 'banana', 'cherry',2]\n",
    "fruits.remove(2)\n",
    "print(fruits)\n"
   ]
  },
  {
   "cell_type": "markdown",
   "id": "8a85dbee",
   "metadata": {},
   "source": [
    "- pop() - Removes and returns the last element from the list or the element at a specified index."
   ]
  },
  {
   "cell_type": "code",
   "execution_count": 44,
   "id": "282264bf",
   "metadata": {
    "scrolled": true
   },
   "outputs": [
    {
     "name": "stdout",
     "output_type": "stream",
     "text": [
      "14\n",
      "apple\n",
      "['banana', 'cherry']\n"
     ]
    }
   ],
   "source": [
    "#Eaxmple :\n",
    "fruits = ['apple', 'banana', 'cherry',14]\n",
    "last_fruit =fruits.pop()\n",
    "print(last_fruit)\n",
    "# print(fruits)\n",
    "print(fruits.pop(0))\n",
    "print(fruits)"
   ]
  },
  {
   "cell_type": "code",
   "execution_count": 43,
   "id": "81858c33",
   "metadata": {},
   "outputs": [
    {
     "name": "stdout",
     "output_type": "stream",
     "text": [
      "[10, 20, 45, 'hello']\n",
      "78\n"
     ]
    }
   ],
   "source": [
    "#Eaxmple : \n",
    "#deletes the value of specified index number\n",
    "num =[10,20,45,78,\"hello\"]\n",
    "a= num.pop(3)\n",
    "print(num)\n",
    "print(a)"
   ]
  },
  {
   "cell_type": "markdown",
   "id": "e1753d5c",
   "metadata": {},
   "source": [
    "- index() - Returns the index of the first occurrence of an element in the list."
   ]
  },
  {
   "cell_type": "code",
   "execution_count": 45,
   "id": "8842e77c",
   "metadata": {},
   "outputs": [
    {
     "name": "stdout",
     "output_type": "stream",
     "text": [
      "['apple', 'hunny', 'cherry', 'karan', 'karan']\n",
      "4\n"
     ]
    }
   ],
   "source": [
    "#Eaxmple :\n",
    "fruits = ['apple', 'hunny', 'hunny','cherry','karan','karan']\n",
    "a = fruits.index('karan')\n",
    "fruits.remove('hunny')\n",
    "print(fruits)\n",
    "print(a)"
   ]
  },
  {
   "cell_type": "markdown",
   "id": "c719d68c",
   "metadata": {},
   "source": [
    "- count() - Returns the number of times an element appears in the list."
   ]
  },
  {
   "cell_type": "code",
   "execution_count": 26,
   "id": "78d06c9a",
   "metadata": {},
   "outputs": [
    {
     "name": "stdout",
     "output_type": "stream",
     "text": [
      "2\n"
     ]
    }
   ],
   "source": [
    "#Eaxmple :\n",
    "fruits = [1,'apple', 'banana',1, 'cherry', 1,'banana',1,True]\n",
    "b=fruits.count('banana')\n",
    "print(b)"
   ]
  },
  {
   "cell_type": "markdown",
   "id": "912eb9ef",
   "metadata": {},
   "source": [
    "- sort() - Sorts the elements of the list in ascending or descending order."
   ]
  },
  {
   "cell_type": "code",
   "execution_count": 46,
   "id": "94bcb955",
   "metadata": {},
   "outputs": [
    {
     "name": "stdout",
     "output_type": "stream",
     "text": [
      "['cherry', 'baui', 'banana', 'apple']\n"
     ]
    }
   ],
   "source": [
    "#Eaxmple :\n",
    "fruits = [\"baui\",'cherry', 'banana', 'apple']\n",
    "num = [1,7,8,2,5,6,45.7]\n",
    "num.sort(reverse=True)\n",
    "#print(num)\n",
    "fruits.sort(reverse=True)\n",
    "fruits.sort(reverse=True)\n",
    "print(fruits)"
   ]
  },
  {
   "cell_type": "markdown",
   "id": "df833890",
   "metadata": {},
   "source": [
    "- reverse() - Reverses the order of elements in the list."
   ]
  },
  {
   "cell_type": "code",
   "execution_count": 28,
   "id": "44ed36d5",
   "metadata": {},
   "outputs": [
    {
     "name": "stdout",
     "output_type": "stream",
     "text": [
      "[6, 5, 2, 8, 7, 1]\n",
      "[5, 'cherry', 'banana', 'apple']\n"
     ]
    }
   ],
   "source": [
    "#Eaxmple :\n",
    "fruits = ['apple', 'banana', 'cherry',5]\n",
    "num = [1,7,8,2,5,6]\n",
    "num.reverse()\n",
    "print(num)\n",
    "fruits.reverse()\n",
    "print(fruits)"
   ]
  },
  {
   "cell_type": "markdown",
   "id": "4ecf6545",
   "metadata": {},
   "source": [
    "- copy() - Makes a shallow copy of the list"
   ]
  },
  {
   "cell_type": "code",
   "execution_count": 48,
   "id": "5eaf39f7",
   "metadata": {},
   "outputs": [
    {
     "name": "stdout",
     "output_type": "stream",
     "text": [
      "['apple', 'banana', 'cherry']\n"
     ]
    }
   ],
   "source": [
    "#Eaxmple :\n",
    "fruits = ['apple', 'banana', 'cherry']\n",
    "new_fruits = fruits.copy()\n",
    "print(new_fruits)"
   ]
  },
  {
   "cell_type": "code",
   "execution_count": 49,
   "id": "ddd70a3d",
   "metadata": {},
   "outputs": [
    {
     "name": "stdout",
     "output_type": "stream",
     "text": [
      "[1, 2, 3, 4]\n"
     ]
    }
   ],
   "source": [
    "a=[1,2,3,4]\n",
    "b=a.copy()\n",
    "print(b)"
   ]
  },
  {
   "cell_type": "markdown",
   "id": "84ab3928",
   "metadata": {},
   "source": [
    "- clear()"
   ]
  },
  {
   "cell_type": "code",
   "execution_count": 50,
   "id": "3b901128",
   "metadata": {},
   "outputs": [
    {
     "name": "stdout",
     "output_type": "stream",
     "text": [
      "[]\n"
     ]
    }
   ],
   "source": [
    "fruits = ['apple', 'banana', 'cherry']\n",
    "fruits.clear()\n",
    "print(fruits)"
   ]
  },
  {
   "cell_type": "markdown",
   "id": "8112ab61",
   "metadata": {},
   "source": [
    "- del"
   ]
  },
  {
   "cell_type": "code",
   "execution_count": 52,
   "id": "195f0894",
   "metadata": {},
   "outputs": [
    {
     "name": "stdout",
     "output_type": "stream",
     "text": [
      "['apple', 'banana', 'mango']\n"
     ]
    }
   ],
   "source": [
    "#error\n",
    "fruits = ['apple', 'banana', 'mango']\n",
    "#del fruits\n",
    "print(fruits)"
   ]
  },
  {
   "cell_type": "code",
   "execution_count": 33,
   "id": "a289caa7-99d6-4ba2-9f16-656315b1e338",
   "metadata": {},
   "outputs": [
    {
     "name": "stdout",
     "output_type": "stream",
     "text": [
      "[1, 2, 3]\n"
     ]
    }
   ],
   "source": [
    "a=[1,2,3]\n",
    "\n",
    "print(a)"
   ]
  },
  {
   "cell_type": "code",
   "execution_count": 34,
   "id": "308b8c6f-ba1d-4c19-a9b5-0b646bcbc857",
   "metadata": {},
   "outputs": [
    {
     "name": "stdout",
     "output_type": "stream",
     "text": [
      "[1, 2, 3]\n"
     ]
    }
   ],
   "source": [
    "print(a)"
   ]
  },
  {
   "cell_type": "code",
   "execution_count": 6,
   "id": "c97fc3e7",
   "metadata": {},
   "outputs": [
    {
     "name": "stdout",
     "output_type": "stream",
     "text": [
      "[1, 2, 3]\n"
     ]
    }
   ],
   "source": [
    "a=[1,2,3]\n",
    "del a\n",
    "print(a)"
   ]
  },
  {
   "cell_type": "code",
   "execution_count": null,
   "id": "b5bd9a95",
   "metadata": {},
   "outputs": [],
   "source": [
    "#Example\n",
    "fruits = ['apple', 'banana', 'cherry']\n",
    "del fruits[1]\n",
    "print(fruits)"
   ]
  },
  {
   "cell_type": "code",
   "execution_count": null,
   "id": "1d9c6488",
   "metadata": {},
   "outputs": [],
   "source": [
    "#write a program  to swap the value of two variables without using third variables\n",
    "# a=67\n",
    "# b=78\n",
    "# a=78\n",
    "# b=67\n",
    "# Initial values\n",
    "a = 67\n",
    "b = 78\n",
    "#Before swapping\n",
    "print(\"Before swapping:\")\n",
    "print(\"a =\", a)\n",
    "print(\"b =\", b)\n",
    "\n",
    "#Swap without third variable\n",
    "a = a + b  # a = 145\n",
    "b = a - b  # b = 67\n",
    "a = a - b  # a = 78\n",
    "\n",
    "# After swapping\n",
    "print(\"After swapping:\")\n",
    "print(\"a =\", a)\n",
    "print(\"b =\", b)"
   ]
  },
  {
   "cell_type": "code",
   "execution_count": 36,
   "id": "6de8d7bb",
   "metadata": {},
   "outputs": [],
   "source": [
    "a=89\n",
    "b=90\n",
    "a=90\n",
    "b=89"
   ]
  },
  {
   "cell_type": "code",
   "execution_count": 37,
   "id": "34ec0486",
   "metadata": {},
   "outputs": [
    {
     "name": "stdout",
     "output_type": "stream",
     "text": [
      "Before swapping:\n",
      "a = 67\n",
      "b = 78\n",
      "After swapping:\n",
      "a = 78\n",
      "b = 67\n"
     ]
    }
   ],
   "source": [
    "#write a program to swap the value of two variables using third variable:\n",
    "# Initial values\n",
    "a = 67\n",
    "b = 78\n",
    "\n",
    "# Before swapping\n",
    "print(\"Before swapping:\")\n",
    "print(\"a =\", a)\n",
    "print(\"b =\", b)\n",
    "\n",
    "# Swap using a third variable\n",
    "temp = a\n",
    "a = b\n",
    "b = temp\n",
    "\n",
    "# After swapping\n",
    "print(\"After swapping:\")\n",
    "print(\"a =\", a)\n",
    "print(\"b =\", b)"
   ]
  },
  {
   "cell_type": "markdown",
   "id": "7b20cfb7",
   "metadata": {},
   "source": [
    "# tuple"
   ]
  },
  {
   "cell_type": "markdown",
   "id": "29ba92eb",
   "metadata": {},
   "source": [
    "a tuple is an immutable, ordered collection of elements of any data type, enclosed in parentheses(). Tuples are similar to lists in many ways, but they have a few key differences that make them useful in different scenarios."
   ]
  },
  {
   "cell_type": "markdown",
   "id": "a88475fd",
   "metadata": {},
   "source": [
    "most important features of tuples in Python:"
   ]
  },
  {
   "cell_type": "markdown",
   "id": "79210989",
   "metadata": {},
   "source": [
    "- Immutable: Once a tuple is created, you can't change its elements. This makes them suitable for use in situations where you want to ensure that the data remains unchanged"
   ]
  },
  {
   "cell_type": "markdown",
   "id": "732e8e18",
   "metadata": {},
   "source": [
    "- Heterogeneous: Tuples can contain elements of different data types, including other tuples."
   ]
  },
  {
   "cell_type": "markdown",
   "id": "7b57a739",
   "metadata": {},
   "source": [
    "- Lightweight: Tuples are more lightweight than lists and dictionaries, so they can be more efficient to use in certain situations, such as when you need to pass large amounts of data between functions."
   ]
  },
  {
   "cell_type": "markdown",
   "id": "4790dd17",
   "metadata": {},
   "source": [
    "- Tuples are typically used for faster access of elements, as compared to lists, due to their immutability."
   ]
  },
  {
   "cell_type": "code",
   "execution_count": 36,
   "id": "b3f2cc75",
   "metadata": {},
   "outputs": [
    {
     "name": "stdout",
     "output_type": "stream",
     "text": [
      "[1, 3, 4, 5, 8]\n"
     ]
    }
   ],
   "source": [
    "#Example\n",
    "# fruits = (\"apple\", \"banana\", \"cherry\",[6,7],[7,8])\n",
    "# a=[9,7,8,6,5,(7,8,9)]\n",
    "# print(a)\n",
    "# print(len(fruits))\n",
    "# a=(1,2,3,3.5,4.5,[1,2,3,4,5],\"disha\")\n",
    "numbers = (1, 8, 3, 4, 5)\n",
    "# # print(fruits)\n",
    "print(sorted(numbers))\n",
    "#tuples don't have a sorting method because they are immutable, but you can use the sorted() function on tuples.\n",
    "#This function will always return a list\n",
    "# mixed_tuple = (1, \"hello\", 3.14, [\"another\", \"tuple\"])\n",
    "# print(type(mixed_tuple[2])) "
   ]
  },
  {
   "cell_type": "code",
   "execution_count": 28,
   "id": "230567c9",
   "metadata": {},
   "outputs": [
    {
     "data": {
      "text/plain": [
       "(7, 8, 9, 'hunny')"
      ]
     },
     "execution_count": 28,
     "metadata": {},
     "output_type": "execute_result"
    }
   ],
   "source": [
    "a=(7,8,9,\"hunny\")\n",
    "a"
   ]
  },
  {
   "cell_type": "code",
   "execution_count": 53,
   "id": "0b27cb99",
   "metadata": {},
   "outputs": [
    {
     "name": "stdout",
     "output_type": "stream",
     "text": [
      "<class 'int'>\n",
      "<class 'str'>\n"
     ]
    }
   ],
   "source": [
    "a=(3,4,5,\"radha\")\n",
    "print(type(a[1]))\n",
    "print(type(a[3]))"
   ]
  },
  {
   "cell_type": "code",
   "execution_count": 39,
   "id": "d53d90e2",
   "metadata": {},
   "outputs": [
    {
     "name": "stdout",
     "output_type": "stream",
     "text": [
      "<class 'float'>\n"
     ]
    }
   ],
   "source": [
    "mixed_tuple = (1, \"hello\", 3.14, [1,3],(8,9))\n",
    "print(type(mixed_tuple[2]))"
   ]
  },
  {
   "cell_type": "code",
   "execution_count": 40,
   "id": "52a8bf86",
   "metadata": {},
   "outputs": [
    {
     "name": "stdout",
     "output_type": "stream",
     "text": [
      "[1, 2, [5, 6], [9, 8]]\n"
     ]
    }
   ],
   "source": [
    "a=[1,2,[5,6],[9,8]]\n",
    "print(a)"
   ]
  },
  {
   "cell_type": "code",
   "execution_count": 41,
   "id": "c11474e9",
   "metadata": {},
   "outputs": [
    {
     "name": "stdout",
     "output_type": "stream",
     "text": [
      "[1, 2, 4, 678]\n",
      "<class 'tuple'>\n"
     ]
    }
   ],
   "source": [
    "a=(1,2,678,4)\n",
    "print(sorted(a))\n",
    "print(type(a))"
   ]
  },
  {
   "cell_type": "markdown",
   "id": "98027415",
   "metadata": {},
   "source": [
    "- You can access, retrieve, and perform operations on tuple elements using various built-in functions and operations, such as indexing, slicing, and counting elements."
   ]
  },
  {
   "cell_type": "markdown",
   "id": "03f44cef",
   "metadata": {},
   "source": [
    "packing in tuple :"
   ]
  },
  {
   "cell_type": "code",
   "execution_count": 54,
   "id": "03a892b6",
   "metadata": {
    "scrolled": true
   },
   "outputs": [
    {
     "name": "stdout",
     "output_type": "stream",
     "text": [
      "[10, 20, 30, 'hello']\n",
      "(10, 20, 30, 'hello')\n"
     ]
    }
   ],
   "source": [
    "a,b,c,e =10,20,30,'hello'\n",
    "d =a,b,c,e\n",
    "print(list(d))\n",
    "print(tuple(d))"
   ]
  },
  {
   "cell_type": "code",
   "execution_count": 43,
   "id": "c43bdcb2",
   "metadata": {},
   "outputs": [
    {
     "name": "stdout",
     "output_type": "stream",
     "text": [
      "(10, 20, 30)\n",
      "[10, 20, 30]\n"
     ]
    }
   ],
   "source": [
    "#for further modification we need to change our data\n",
    "a,b,c =10,20,30\n",
    "d =a,b,c\n",
    "print(d)\n",
    "d=list(d)\n",
    "print(d) "
   ]
  },
  {
   "cell_type": "markdown",
   "id": "8b663ad8",
   "metadata": {},
   "source": [
    "# Accessing Values:"
   ]
  },
  {
   "cell_type": "markdown",
   "id": "f7907746",
   "metadata": {},
   "source": []
  },
  {
   "cell_type": "markdown",
   "id": "e75144c7",
   "metadata": {},
   "source": [
    "indexing:"
   ]
  },
  {
   "cell_type": "code",
   "execution_count": 44,
   "id": "b1a7271b",
   "metadata": {},
   "outputs": [
    {
     "name": "stdout",
     "output_type": "stream",
     "text": [
      "hello\n",
      "bye\n",
      "value at index 0 =  hello\n",
      "Value in V[1] =  hi\n",
      "Value in V[2] =  bye\n"
     ]
    }
   ],
   "source": [
    "v = (\"hello\", \"hi\", \"bye\")\n",
    "print(v[0])\n",
    "print(v[2])\n",
    "\n",
    "print(\"value at index 0 = \", v[0])\n",
    "print(\"Value in V[1] = \", v[1])\n",
    "print(\"Value in V[2] = \", v[2])"
   ]
  },
  {
   "cell_type": "code",
   "execution_count": 45,
   "id": "bdccfe33",
   "metadata": {},
   "outputs": [
    {
     "name": "stdout",
     "output_type": "stream",
     "text": [
      "2\n"
     ]
    }
   ],
   "source": [
    "a=(1,2,3)\n",
    "print(a[-2])"
   ]
  },
  {
   "cell_type": "markdown",
   "id": "b1d17e9e",
   "metadata": {},
   "source": [
    "Concatenation of Python Tuples:"
   ]
  },
  {
   "cell_type": "code",
   "execution_count": 46,
   "id": "9e9c9697",
   "metadata": {},
   "outputs": [
    {
     "name": "stdout",
     "output_type": "stream",
     "text": [
      "5akshitt\n"
     ]
    }
   ],
   "source": [
    "a=\"5\"\n",
    "b=\"akshitt\"\n",
    "print(a+b) "
   ]
  },
  {
   "cell_type": "code",
   "execution_count": 47,
   "id": "c60f28bb",
   "metadata": {},
   "outputs": [
    {
     "name": "stdout",
     "output_type": "stream",
     "text": [
      "[0, 1, 2, 3]\n",
      "[0, 1, 2, 3]\n",
      "<class 'tuple'>\n",
      "[0, 1, 2, 3, 'python', 4]\n"
     ]
    }
   ],
   "source": [
    "tuple1 = (0, 1, 2, 3)\n",
    "a=list(tuple1)\n",
    "print(a)\n",
    "print(list(tuple1))\n",
    "tuple2 = ('python',4)\n",
    "print(type(tuple2))\n",
    "print(a + list(tuple2))"
   ]
  },
  {
   "cell_type": "code",
   "execution_count": 48,
   "id": "60be5696",
   "metadata": {},
   "outputs": [
    {
     "name": "stdout",
     "output_type": "stream",
     "text": [
      "[1, 2, 3, 2, 3, 4]\n"
     ]
    }
   ],
   "source": [
    "a=[1,2,3] \n",
    "\n",
    "b=[2,3,4] \n",
    "print(a+b)"
   ]
  },
  {
   "cell_type": "markdown",
   "id": "88194568",
   "metadata": {},
   "source": [
    " Nesting :"
   ]
  },
  {
   "cell_type": "code",
   "execution_count": 49,
   "id": "38d49241",
   "metadata": {},
   "outputs": [
    {
     "name": "stdout",
     "output_type": "stream",
     "text": [
      "(0, 1, 2, 3)\n",
      "('python', 54)\n",
      "((0, 1, 2, 3), ('python', 54))\n",
      "2\n"
     ]
    }
   ],
   "source": [
    "tuple1 = (0, 1, 2, 3)\n",
    "tuple2 = ('python',54)\n",
    "tuple3 = (tuple1 , tuple2)\n",
    "#              0      1\n",
    "print(tuple3[0])\n",
    "print(tuple3[1])\n",
    "print(tuple3)\n",
    "print(len(tuple3))"
   ]
  },
  {
   "cell_type": "code",
   "execution_count": 55,
   "id": "588a2018",
   "metadata": {},
   "outputs": [
    {
     "name": "stdout",
     "output_type": "stream",
     "text": [
      "mishra\n",
      "mishra\n",
      "mishra\n",
      "mishra\n",
      "mishra\n",
      "mishra\n",
      "mishra\n",
      "mishra\n",
      "mishra\n",
      "mishra\n",
      "\n"
     ]
    }
   ],
   "source": [
    "a='mishra\\n'*10\n",
    "print(a)"
   ]
  },
  {
   "cell_type": "code",
   "execution_count": 51,
   "id": "b161d06c",
   "metadata": {},
   "outputs": [
    {
     "data": {
      "text/plain": [
       "'vanishka\\nvanishka\\nvanishka\\nvanishka\\nvanishka\\nvanishka\\nvanishka\\nvanishka\\nvanishka\\nvanishka\\n'"
      ]
     },
     "execution_count": 51,
     "metadata": {},
     "output_type": "execute_result"
    }
   ],
   "source": [
    "a='vanishka\\n'*10\n",
    "a"
   ]
  },
  {
   "cell_type": "code",
   "execution_count": 52,
   "id": "23ec8f27",
   "metadata": {},
   "outputs": [
    {
     "name": "stdout",
     "output_type": "stream",
     "text": [
      "('think', 'think', 'think', 'think', 'think')\n"
     ]
    }
   ],
   "source": [
    "a=('think',)*5\n",
    "print(a)"
   ]
  },
  {
   "cell_type": "markdown",
   "id": "33eaf91c",
   "metadata": {},
   "source": [
    "Repetition:"
   ]
  },
  {
   "cell_type": "code",
   "execution_count": 53,
   "id": "8b33b611",
   "metadata": {},
   "outputs": [
    {
     "name": "stdout",
     "output_type": "stream",
     "text": [
      "('aditya', 'aditya', 'aditya', 'aditya', 'aditya', 'aditya', 'aditya', 'aditya', 'aditya', 'aditya')\n"
     ]
    }
   ],
   "source": [
    "tuple1 = ('aditya',)*10\n",
    "print(tuple1)\n"
   ]
  },
  {
   "cell_type": "code",
   "execution_count": 54,
   "id": "ed11bc5b",
   "metadata": {},
   "outputs": [
    {
     "name": "stdout",
     "output_type": "stream",
     "text": [
      "hello\n",
      "hello\n",
      "hello\n",
      "hello\n",
      "hello\n",
      "hello\n",
      "hello\n",
      "hello\n",
      "hello\n",
      "hello\n",
      "\n"
     ]
    }
   ],
   "source": [
    "a ='hello\\n'*10\n",
    "print(a)"
   ]
  },
  {
   "cell_type": "markdown",
   "id": "4b46a22e",
   "metadata": {},
   "source": [
    "Immutable :"
   ]
  },
  {
   "cell_type": "code",
   "execution_count": 56,
   "id": "5061a296",
   "metadata": {},
   "outputs": [
    {
     "ename": "TypeError",
     "evalue": "'tuple' object does not support item assignment",
     "output_type": "error",
     "traceback": [
      "\u001b[31m---------------------------------------------------------------------------\u001b[39m",
      "\u001b[31mTypeError\u001b[39m                                 Traceback (most recent call last)",
      "\u001b[36mCell\u001b[39m\u001b[36m \u001b[39m\u001b[32mIn[56]\u001b[39m\u001b[32m, line 2\u001b[39m\n\u001b[32m      1\u001b[39m tuple1 = (\u001b[32m0\u001b[39m, \u001b[32m1\u001b[39m, \u001b[32m2\u001b[39m, \u001b[32m3\u001b[39m)\n\u001b[32m----> \u001b[39m\u001b[32m2\u001b[39m \u001b[43mtuple1\u001b[49m\u001b[43m[\u001b[49m\u001b[32;43m0\u001b[39;49m\u001b[43m]\u001b[49m = \u001b[32m4\u001b[39m\n\u001b[32m      3\u001b[39m \u001b[38;5;28mprint\u001b[39m(tuple1)\n",
      "\u001b[31mTypeError\u001b[39m: 'tuple' object does not support item assignment"
     ]
    }
   ],
   "source": [
    "tuple1 = (0, 1, 2, 3)\n",
    "tuple1[0] = 4\n",
    "print(tuple1)"
   ]
  },
  {
   "cell_type": "markdown",
   "id": "571c19ea",
   "metadata": {},
   "source": [
    "slicing:"
   ]
  },
  {
   "cell_type": "code",
   "execution_count": 56,
   "id": "dbf64859",
   "metadata": {},
   "outputs": [
    {
     "name": "stdout",
     "output_type": "stream",
     "text": [
      "('hello', 2, 3, 8)\n",
      "(8, 3, 2, 'hello', 0)\n",
      "(2, 3)\n"
     ]
    }
   ],
   "source": [
    "tuple1 = (0 ,'hello', 2, 3,8)\n",
    "#            0    1    2  3   4\n",
    "print(tuple1[1:])\n",
    "print(tuple1[::-1])\n",
    "print(tuple1[2:4])\n"
   ]
  },
  {
   "cell_type": "markdown",
   "id": "8519edc9",
   "metadata": {},
   "source": [
    "Deleting :"
   ]
  },
  {
   "cell_type": "code",
   "execution_count": 57,
   "id": "815aba92",
   "metadata": {},
   "outputs": [
    {
     "name": "stdout",
     "output_type": "stream",
     "text": [
      "(0, 5, 4, (2, 5, 7, 8))\n"
     ]
    }
   ],
   "source": [
    "tuple3 = ( 0, 5,4,(2,5,7,8))\n",
    "#del tuple3\n",
    "print(tuple3)"
   ]
  },
  {
   "cell_type": "markdown",
   "id": "2c31d415",
   "metadata": {},
   "source": [
    "Converting list to a Tuple:"
   ]
  },
  {
   "cell_type": "code",
   "execution_count": 57,
   "id": "caa226d1-4f1e-4379-9b34-1f867309048e",
   "metadata": {},
   "outputs": [
    {
     "name": "stdout",
     "output_type": "stream",
     "text": [
      "(1, 4, 7, 8, (1, 3, 4, 5), 2, 4)\n",
      "['c', 'a', 'r', 'r', 'e', 'r', ' ', 'p', 'o', 'i', 'n', 't', ' ', 'u', 'n', 'i', 'v', 'e', 'r', 's', 'i', 't', 'y']\n"
     ]
    }
   ],
   "source": [
    "a=(1,4,7,8)\n",
    "b=((1,3,4,5),2,4)\n",
    "c=a+b\n",
    "print(c)\n",
    "\n",
    "print(list('carrer point university'))"
   ]
  },
  {
   "cell_type": "code",
   "execution_count": 58,
   "id": "015b26fe",
   "metadata": {
    "scrolled": true
   },
   "outputs": [
    {
     "name": "stdout",
     "output_type": "stream",
     "text": [
      "(0, 1, 2)\n",
      "('p', 'y', 't', 'h', 'o', 'n')\n"
     ]
    }
   ],
   "source": [
    "list1 = [0, 1, 2]\n",
    "print(tuple(list1)) \n",
    "\n",
    "print(tuple('python')) \n"
   ]
  },
  {
   "cell_type": "markdown",
   "id": "33a1e908",
   "metadata": {},
   "source": [
    "Tuple functions:"
   ]
  },
  {
   "cell_type": "markdown",
   "id": "910a238b",
   "metadata": {},
   "source": [
    "- len(): Returns the number of elements in a tuple.\n"
   ]
  },
  {
   "cell_type": "code",
   "execution_count": 59,
   "id": "e9618935",
   "metadata": {},
   "outputs": [
    {
     "name": "stdout",
     "output_type": "stream",
     "text": [
      "6\n",
      "<class 'tuple'>\n",
      "(1, 2, 3, 4, 5, 6)\n"
     ]
    }
   ],
   "source": [
    "#Example\n",
    "numbers = (1, 2, 3, 4, 5,6)\n",
    "print(len(numbers))\n",
    "print(type(numbers))\n",
    "print(numbers) "
   ]
  },
  {
   "cell_type": "markdown",
   "id": "24b120eb",
   "metadata": {},
   "source": [
    "- count(): Returns the number of occurrences of a specific element in a tuple."
   ]
  },
  {
   "cell_type": "code",
   "execution_count": 61,
   "id": "4ac304af",
   "metadata": {},
   "outputs": [
    {
     "name": "stdout",
     "output_type": "stream",
     "text": [
      "4\n"
     ]
    }
   ],
   "source": [
    "#Example\n",
    "numbers = (1, 2, 3,3,4,3,3, 5)\n",
    "\n",
    "print(numbers.count(3))"
   ]
  },
  {
   "cell_type": "markdown",
   "id": "f8ce1ff2",
   "metadata": {},
   "source": [
    "- index(): Returns the index of the first occurrence of a specific element in a tuple"
   ]
  },
  {
   "cell_type": "code",
   "execution_count": 62,
   "id": "ae2863f7",
   "metadata": {},
   "outputs": [
    {
     "name": "stdout",
     "output_type": "stream",
     "text": [
      "2\n",
      "disha\n"
     ]
    }
   ],
   "source": [
    "#Example\n",
    "numbers = (1, 2, \"sid\", \"disha\",  4,'hello', 5 )\n",
    "print(numbers.index(\"sid\"))\n",
    "print(numbers[3])"
   ]
  },
  {
   "cell_type": "markdown",
   "id": "4a22a181",
   "metadata": {},
   "source": [
    "- max(): Returns the maximum value in a tuple of numbers."
   ]
  },
  {
   "cell_type": "code",
   "execution_count": 63,
   "id": "afafaee2",
   "metadata": {},
   "outputs": [
    {
     "name": "stdout",
     "output_type": "stream",
     "text": [
      "8\n"
     ]
    }
   ],
   "source": [
    "#Example\n",
    "numbers = (1, 2, 3, 4, 5,8)\n",
    "print(max(numbers)) \n"
   ]
  },
  {
   "cell_type": "markdown",
   "id": "07662f58",
   "metadata": {},
   "source": [
    "- min(): Returns the minimum value in a tuple of numbers"
   ]
  },
  {
   "cell_type": "code",
   "execution_count": 64,
   "id": "483364bf",
   "metadata": {},
   "outputs": [
    {
     "name": "stdout",
     "output_type": "stream",
     "text": [
      "1\n"
     ]
    }
   ],
   "source": [
    "#Example\n",
    "numbers = (1, 2, 3, 4, 5)\n",
    "print(min(numbers))\n"
   ]
  },
  {
   "cell_type": "markdown",
   "id": "bc39a80a",
   "metadata": {},
   "source": [
    "- sorted(): Returns a sorted version of a tuple."
   ]
  },
  {
   "cell_type": "code",
   "execution_count": 65,
   "id": "f50fdba8",
   "metadata": {},
   "outputs": [
    {
     "name": "stdout",
     "output_type": "stream",
     "text": [
      "[0, 1, 2, 3, 4, 5]\n",
      "[5, 4, 3, 2, 1, 0]\n"
     ]
    }
   ],
   "source": [
    "#Example\n",
    "numbers = (1, 2, 3, 4, 5,0)\n",
    "print(sorted(numbers))\n",
    "print(sorted(numbers,reverse=True)) "
   ]
  },
  {
   "cell_type": "code",
   "execution_count": 66,
   "id": "a8210a45",
   "metadata": {},
   "outputs": [
    {
     "name": "stdout",
     "output_type": "stream",
     "text": [
      "45\n"
     ]
    }
   ],
   "source": [
    "a=45\n",
    "print(a)"
   ]
  },
  {
   "cell_type": "code",
   "execution_count": 67,
   "id": "37ff99f6-537c-44fb-9286-c59ccc5c24f9",
   "metadata": {},
   "outputs": [
    {
     "name": "stdout",
     "output_type": "stream",
     "text": [
      "45\n"
     ]
    }
   ],
   "source": [
    "_a=45\n",
    "print(_a)"
   ]
  },
  {
   "cell_type": "code",
   "execution_count": 68,
   "id": "89285289-115e-42e1-9613-6f7d4368c767",
   "metadata": {},
   "outputs": [
    {
     "data": {
      "text/plain": [
       "45"
      ]
     },
     "execution_count": 68,
     "metadata": {},
     "output_type": "execute_result"
    }
   ],
   "source": [
    "_a"
   ]
  },
  {
   "cell_type": "code",
   "execution_count": 6,
   "id": "aeaeff1a-148f-4793-bab8-9bd48622b0fd",
   "metadata": {},
   "outputs": [
    {
     "ename": "SyntaxError",
     "evalue": "invalid character '✅' (U+2705) (34827204.py, line 3)",
     "output_type": "error",
     "traceback": [
      "  \u001b[36mCell\u001b[39m\u001b[36m \u001b[39m\u001b[32mIn[6]\u001b[39m\u001b[32m, line 3\u001b[39m\n\u001b[31m    \u001b[39m\u001b[31mMutability\t✅ Mutable (can be changed)\t ❌ Immutable (cannot be changed)\u001b[39m\n              \t^\n\u001b[31mSyntaxError\u001b[39m\u001b[31m:\u001b[39m invalid character '✅' (U+2705)\n"
     ]
    }
   ],
   "source": [
    " # DIFFERENCE BETWEEN List and Tuple\n",
    "Feature\tList ([])\t Tuple (())\n",
    "Mutability\t✅ Mutable (can be changed)\t ❌ Immutable (cannot be changed)\n",
    "Syntax\tmy_list = [1, 2, 3]\t my_tuple = (1, 2, 3)\n",
    "Methods\tMany methods (append(), remove(), etc.)\t Fewer methods (mainly count(), index())\n",
    "Performance\tSlightly slower\t  Faster due to immutability\n",
    "Use Case\tFor dynamic data (can change later)\tFor fixed data (won't change)\n",
    "Memory Usage  Uses more memory\tUses less memory\n",
    "Can Be Dictionary Key\t❌ No (because it's mutable)\t✅ Yes (if it contains only immutables)\n",
    "Iteration Speed\tSlower\tFaster\n",
    "Nesting\tCan be nested\tCan be nested"
   ]
  },
  {
   "cell_type": "markdown",
   "id": "cc35caa9-e278-4d2d-b145-b20883d87dc1",
   "metadata": {},
   "source": [
    " ## Indexing"
   ]
  },
  {
   "cell_type": "code",
   "execution_count": null,
   "id": "912c3f9a-a470-4be1-b21c-5031f919a972",
   "metadata": {},
   "outputs": [],
   "source": [
    "Indexing means referring to an element of an iterable (like a list or string) by its position.\n",
    "\n",
    "Syntax: sequence[index] \n",
    "\n",
    "Index starts from 0 (left to right).\n",
    "\n",
    "Negative indexing starts from -1 (right to left)."
   ]
  },
  {
   "cell_type": "code",
   "execution_count": 11,
   "id": "aca32add-b079-42fd-8893-22165d81c75a",
   "metadata": {},
   "outputs": [
    {
     "name": "stdout",
     "output_type": "stream",
     "text": [
      "b\n",
      "d\n",
      "e\n"
     ]
    }
   ],
   "source": [
    "a = ['a', 'b', 'c', 'd']\n",
    "print(a[-3])   \n",
    "print(my_list[-2])   \n",
    "print(my_list[-1])  "
   ]
  },
  {
   "cell_type": "markdown",
   "id": "10836338-0a89-43c2-9174-e5a12bc9218c",
   "metadata": {},
   "source": [
    " ## slicing"
   ]
  },
  {
   "cell_type": "code",
   "execution_count": null,
   "id": "2cbdf3d8-f57a-4871-9de5-5034951622a1",
   "metadata": {},
   "outputs": [],
   "source": [
    "Slicing is used to access a range of elements in a sequence.\n",
    "\n",
    "Syntax: sequence[start:stop:step]\n",
    "\n",
    "start: index where the slice starts (inclusive)\n",
    "\n",
    "stop: index where the slice ends (exclusive)\n",
    "\n",
    "step: how many steps to jump (default is 1) "
   ]
  },
  {
   "cell_type": "code",
   "execution_count": 12,
   "id": "5355b756-12a6-42b0-b44c-07f07dfea9a3",
   "metadata": {},
   "outputs": [
    {
     "name": "stdout",
     "output_type": "stream",
     "text": [
      "['b']\n",
      "['a', 'b', 'c']\n",
      "['c', 'd', 'e', 'f']\n",
      "['a', 'c', 'e']\n",
      "['f', 'e', 'd', 'c', 'b', 'a']\n"
     ]
    }
   ],
   "source": [
    "my_list = ['a', 'b', 'c', 'd', 'e','f']\n",
    "\n",
    "print(my_list[1:2])      # ['b', 'c', 'd']\n",
    "print(my_list[:3])       # ['a', 'b', 'c']\n",
    "print(my_list[2:])       # ['c', 'd', 'e']\n",
    "print(my_list[::2])      # ['a', 'c', 'e'] (every second item)\n",
    "print(my_list[::-1])     # ['e', 'd', 'c', 'b', 'a'] (reversed)"
   ]
  },
  {
   "cell_type": "code",
   "execution_count": null,
   "id": "ccc0fb38-e277-4ef7-942e-260427227f0c",
   "metadata": {},
   "outputs": [],
   "source": []
  },
  {
   "cell_type": "code",
   "execution_count": null,
   "id": "34494a88-b482-4836-9200-e38006b3c214",
   "metadata": {},
   "outputs": [],
   "source": []
  },
  {
   "cell_type": "code",
   "execution_count": null,
   "id": "5d576fd7-f13e-4f39-bd65-18e6f70094c8",
   "metadata": {},
   "outputs": [],
   "source": []
  }
 ],
 "metadata": {
  "kernelspec": {
   "display_name": "Python 3 (ipykernel)",
   "language": "python",
   "name": "python3"
  },
  "language_info": {
   "codemirror_mode": {
    "name": "ipython",
    "version": 3
   },
   "file_extension": ".py",
   "mimetype": "text/x-python",
   "name": "python",
   "nbconvert_exporter": "python",
   "pygments_lexer": "ipython3",
   "version": "3.13.3"
  },
  "vscode": {
   "interpreter": {
    "hash": "72b2382ece9768098284d92bbc69d35954e75b60d1e25897d1389c232f4796f0"
   }
  }
 },
 "nbformat": 4,
 "nbformat_minor": 5
}
