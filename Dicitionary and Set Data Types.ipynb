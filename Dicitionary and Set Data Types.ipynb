{
 "cells": [
  {
   "cell_type": "markdown",
   "id": "d197593f",
   "metadata": {},
   "source": [
    "# Dicitionary\n"
   ]
  },
  {
   "cell_type": "code",
   "execution_count": 2,
   "id": "f80192fe",
   "metadata": {},
   "outputs": [
    {
     "name": "stdout",
     "output_type": "stream",
     "text": [
      "{1: 'preet', 8: 9}\n",
      "<class 'dict'>\n"
     ]
    }
   ],
   "source": [
    "d={1:3,8:9,1:\"preet\"}\n",
    "print(d)\n",
    "print(type(d))"
   ]
  },
  {
   "cell_type": "code",
   "execution_count": 2,
   "id": "15e41cb3",
   "metadata": {},
   "outputs": [
    {
     "name": "stdout",
     "output_type": "stream",
     "text": [
      "2\n"
     ]
    },
    {
     "data": {
      "text/plain": [
       "{1: 2, 6: 7, 8: 'abhishek'}"
      ]
     },
     "execution_count": 2,
     "metadata": {},
     "output_type": "execute_result"
    }
   ],
   "source": [
    "d={1:2,6:7,8:\"hunny\",8:\"abhishek\"}\n",
    "print(d.get(1,'not found in a dictionary'))\n",
    "d"
   ]
  },
  {
   "cell_type": "code",
   "execution_count": 3,
   "id": "ab2c3926",
   "metadata": {},
   "outputs": [
    {
     "data": {
      "text/plain": [
       "{1: 'karan', 2: 3}"
      ]
     },
     "execution_count": 3,
     "metadata": {},
     "output_type": "execute_result"
    }
   ],
   "source": [
    "d={1:2,2:3,1:\"karan\"}\n",
    "d"
   ]
  },
  {
   "cell_type": "markdown",
   "id": "c44adffe",
   "metadata": {},
   "source": [
    "A dictionary is a collection of key-value pairs, where each key is unique and maps to a specific value"
   ]
  },
  {
   "cell_type": "markdown",
   "id": "93fe5648",
   "metadata": {},
   "source": [
    "They are defined using curly braces {} with key-value pairs separated by a colon. "
   ]
  },
  {
   "cell_type": "code",
   "execution_count": 4,
   "id": "857db0a2-a22c-4225-8354-3c464b780d2a",
   "metadata": {},
   "outputs": [
    {
     "name": "stdout",
     "output_type": "stream",
     "text": [
      "{'name': 'ram', 'rollno': 1, 'marks': 34}\n",
      "<class 'dict'>\n"
     ]
    }
   ],
   "source": [
    "a= {\"name\": \"ram\", \"rollno\": 1, \"marks\": 34}\n",
    "print(a)\n",
    "print(type(a))"
   ]
  },
  {
   "cell_type": "code",
   "execution_count": 1,
   "id": "2dd44c6b",
   "metadata": {},
   "outputs": [
    {
     "name": "stdout",
     "output_type": "stream",
     "text": [
      "{'name': 'sneh', 1: 'sneh', 8: 2}\n",
      "<class 'dict'>\n"
     ]
    }
   ],
   "source": [
    "a={'name':\"sneh\",1:\"sneh\",8:2}\n",
    "print(a)\n",
    "print(type(a))"
   ]
  },
  {
   "cell_type": "code",
   "execution_count": 2,
   "id": "49ae9831",
   "metadata": {},
   "outputs": [
    {
     "name": "stdout",
     "output_type": "stream",
     "text": [
      "{'1': 2, '7': 4}\n"
     ]
    }
   ],
   "source": [
    "a={'1':2,'7':4}\n",
    "print(a)"
   ]
  },
  {
   "cell_type": "code",
   "execution_count": 3,
   "id": "437e7b7c",
   "metadata": {},
   "outputs": [
    {
     "name": "stdout",
     "output_type": "stream",
     "text": [
      "{1: 2, 2: 3}\n"
     ]
    }
   ],
   "source": [
    "a={1:2,2:3}\n",
    "print(a)"
   ]
  },
  {
   "cell_type": "code",
   "execution_count": 4,
   "id": "dd38db08",
   "metadata": {},
   "outputs": [
    {
     "name": "stdout",
     "output_type": "stream",
     "text": [
      "{'Name': 'mukesh', 1: 'age', 'City': 'chandigarh'}\n"
     ]
    }
   ],
   "source": [
    "#for example:\n",
    "my_dict = {'Name': 'mukesh',1:'age','City': 'chandigarh'}\n",
    "print(my_dict)"
   ]
  },
  {
   "cell_type": "markdown",
   "id": "e66b32b3",
   "metadata": {},
   "source": [
    "Dictionaries are mutable, unordered, and can store elements of different data types\n",
    "\n"
   ]
  },
  {
   "cell_type": "markdown",
   "id": "f68beaa8",
   "metadata": {},
   "source": [
    "You can access values in a dictionary using square brackets and the key."
   ]
  },
  {
   "cell_type": "code",
   "execution_count": 1,
   "id": "4158c37f-cfe8-4c12-972a-d69ca0090e9e",
   "metadata": {},
   "outputs": [
    {
     "name": "stdout",
     "output_type": "stream",
     "text": [
      "mukesh\n",
      "chandigarh\n",
      "3\n"
     ]
    }
   ],
   "source": [
    "my_dict = {'Name': 'mukesh',1:'age','City': 'chandigarh'}\n",
    "print(my_dict[\"Name\"])\n",
    "print(my_dict.get(\"City\", \"not found\"))\n",
    "print(len(my_dict)) "
   ]
  },
  {
   "cell_type": "code",
   "execution_count": 2,
   "id": "12b049a3",
   "metadata": {},
   "outputs": [
    {
     "name": "stdout",
     "output_type": "stream",
     "text": [
      "age\n",
      "not found\n",
      "mukesh\n"
     ]
    }
   ],
   "source": [
    "#for example\n",
    "my_dict = {'Name': 'mukesh',1:'age','City': 'chandigarh'}\n",
    "print(my_dict[1])\n",
    "# print(my_dict[8])\n",
    "print(my_dict.get(8,'not found'))\n",
    "print(my_dict['Name'])"
   ]
  },
  {
   "cell_type": "markdown",
   "id": "2636f7c4",
   "metadata": {},
   "source": [
    "functions for dict:"
   ]
  },
  {
   "cell_type": "markdown",
   "id": "9fe0fc21",
   "metadata": {},
   "source": [
    "- len(d): Returns the number of key-value pairs in the dictionary d."
   ]
  },
  {
   "cell_type": "code",
   "execution_count": 3,
   "id": "20a3cd9e",
   "metadata": {},
   "outputs": [
    {
     "name": "stdout",
     "output_type": "stream",
     "text": [
      "4\n",
      "{'Name': 'mukesh', 'Age': 32, 'City': 'chandigarh', 1: [1, 2, 3, 4]}\n"
     ]
    }
   ],
   "source": [
    "#for example:\n",
    "my_dict = {'Name': 'mukesh', 'Age': 32, 'City': 'chandigarh',1: [1, 2, 3, 4]}\n",
    "c=len(my_dict)\n",
    "print(c)\n",
    "print(my_dict)"
   ]
  },
  {
   "cell_type": "markdown",
   "id": "86d76e7a",
   "metadata": {},
   "source": [
    "- d.keys(): Returns a view of the keys in the dictionary d."
   ]
  },
  {
   "cell_type": "code",
   "execution_count": 5,
   "id": "d7786c20",
   "metadata": {},
   "outputs": [
    {
     "name": "stdout",
     "output_type": "stream",
     "text": [
      "dict_keys(['Name', 1, 'City'])\n"
     ]
    }
   ],
   "source": [
    "d = {'Name': 'mukesh', 1: \"age\" , 'City': 'chandigarh'}\n",
    "a = d.keys()\n",
    "print(a)"
   ]
  },
  {
   "cell_type": "markdown",
   "id": "e57e6229",
   "metadata": {},
   "source": [
    "- d.values(): Returns a view of the values in the dictionary d."
   ]
  },
  {
   "cell_type": "code",
   "execution_count": 4,
   "id": "96cd3472",
   "metadata": {},
   "outputs": [
    {
     "name": "stdout",
     "output_type": "stream",
     "text": [
      "dict_values(['mukesh', 32, 'chandigarh'])\n"
     ]
    }
   ],
   "source": [
    "#for example:\n",
    "my_dict = {'Name': 'mukesh', 'Age': 32, 'City': 'chandigarh'}\n",
    "v = my_dict.values()\n",
    "print(v)"
   ]
  },
  {
   "cell_type": "markdown",
   "id": "d246b0e7",
   "metadata": {},
   "source": [
    "- d.items(): Returns a view of the key-value pairs in the dictionary d as a sequence of (key, value) tuples"
   ]
  },
  {
   "cell_type": "code",
   "execution_count": 19,
   "id": "fc1e3f1b",
   "metadata": {},
   "outputs": [
    {
     "name": "stdout",
     "output_type": "stream",
     "text": [
      "[('Name', (1, 2, 3)), ('Age', 32), ('City', 'chandigarh')]\n"
     ]
    }
   ],
   "source": [
    "#for example:\n",
    "my_dict = {'Name':(1,2,3), 'Age': 32, 'City': 'chandigarh'}\n",
    "items = my_dict.items()\n",
    "# print(items)\n",
    "# a = list(items)\n",
    "# print(a)\n",
    "# #c=a[1]\n",
    "# #print(c[1])\n",
    "print(list(items))"
   ]
  },
  {
   "cell_type": "markdown",
   "id": "473fec88",
   "metadata": {},
   "source": [
    "- d.get(key, default): Returns the value for the key key if it exists in the dictionary d, else returns the value specified in default."
   ]
  },
  {
   "cell_type": "code",
   "execution_count": 7,
   "id": "24340a14",
   "metadata": {},
   "outputs": [
    {
     "name": "stdout",
     "output_type": "stream",
     "text": [
      "33\n",
      "Not found\n"
     ]
    }
   ],
   "source": [
    "#for example:\n",
    "my_dict = {'Name': 'mukesh', 'Age': 32, 'City': 'chandigarh' ,1:45,1:33}\n",
    "print(my_dict.get(1, 'Not found')) \n",
    "print(my_dict.get('Country','Not found')) "
   ]
  },
  {
   "cell_type": "markdown",
   "id": "da715f14",
   "metadata": {},
   "source": [
    "- d[key] = value: Adds a key-value pair to the dictionary d or updates the value for an existing key.\n"
   ]
  },
  {
   "cell_type": "code",
   "execution_count": 7,
   "id": "ad7121b9-ad4d-478c-b735-1c17d54f341c",
   "metadata": {},
   "outputs": [
    {
     "name": "stdout",
     "output_type": "stream",
     "text": [
      "{'Name': 'mukesh', 'Age': 32, 'City': 'chandigarh', 'Country': 'USA'}\n",
      "{'Name': 'mukesh', 'Age': 45, 'City': 'chandigarh', 'Country': 'USA'}\n"
     ]
    }
   ],
   "source": [
    "a = {'Name': 'mukesh', 'Age': 32, 'City': 'chandigarh'}\n",
    "a['Country'] = 'USA'\n",
    "print(a)\n",
    "a['Age']=45\n",
    "print(a)"
   ]
  },
  {
   "cell_type": "code",
   "execution_count": 10,
   "id": "e98fd2e8",
   "metadata": {},
   "outputs": [
    {
     "name": "stdout",
     "output_type": "stream",
     "text": [
      "{'Name': 'mukesh', 'Age': 32, 'City': 'chandigarh', 'Country': 'USA'}\n",
      "{'Name': 'hunny', 'Age': 32, 'City': 'chandigarh', 'Country': 'USA'}\n"
     ]
    }
   ],
   "source": [
    "#for example:\n",
    "my_dict = {'Name': 'mukesh', 'Age': 32, 'City': 'chandigarh'}\n",
    "my_dict['Country'] = 'USA'\n",
    "print(my_dict) \n",
    "my_dict['Name'] = \"hunny\"\n",
    "print(my_dict)"
   ]
  },
  {
   "cell_type": "code",
   "execution_count": 11,
   "id": "998f1a6f",
   "metadata": {},
   "outputs": [
    {
     "name": "stdout",
     "output_type": "stream",
     "text": [
      "<class 'dict'>\n"
     ]
    }
   ],
   "source": [
    "a={}\n",
    "print(type(a))"
   ]
  },
  {
   "cell_type": "code",
   "execution_count": 12,
   "id": "dd121c73",
   "metadata": {},
   "outputs": [
    {
     "name": "stdout",
     "output_type": "stream",
     "text": [
      "<class 'set'>\n"
     ]
    }
   ],
   "source": [
    "a=set()\n",
    "print(type(a))"
   ]
  },
  {
   "cell_type": "code",
   "execution_count": 13,
   "id": "bdecc9e2",
   "metadata": {},
   "outputs": [
    {
     "name": "stdout",
     "output_type": "stream",
     "text": [
      "[0, 1, 3, 4, 5, 8]\n",
      "0\n"
     ]
    }
   ],
   "source": [
    "a=[1,3,4,5,8,0]\n",
    "a.sort()\n",
    "print(a)\n",
    "print(a[0])"
   ]
  },
  {
   "cell_type": "markdown",
   "id": "01752097",
   "metadata": {},
   "source": [
    "- del d[key]: Removes the key-value pair with the key key from the dictionary d."
   ]
  },
  {
   "cell_type": "code",
   "execution_count": 14,
   "id": "4671ee0a",
   "metadata": {},
   "outputs": [
    {
     "name": "stdout",
     "output_type": "stream",
     "text": [
      "{'Name': 'John Doe', 'Age': 32, 'City': 'New York'}\n"
     ]
    }
   ],
   "source": [
    "#for example:\n",
    "d = {'Name': 'John Doe', 'Age': 32, 'City': 'New York'}\n",
    "#del d\n",
    "print(d)"
   ]
  },
  {
   "cell_type": "code",
   "execution_count": 15,
   "id": "8e5b7681-9bb4-4e2c-8bb2-6aca970dab36",
   "metadata": {},
   "outputs": [
    {
     "name": "stdout",
     "output_type": "stream",
     "text": [
      "{'Name': 'John Doe', 'Age': 32, 'City': 'New York'}\n"
     ]
    }
   ],
   "source": [
    "print(d)"
   ]
  },
  {
   "cell_type": "markdown",
   "id": "400044df",
   "metadata": {},
   "source": [
    "- d.clear(): Removes all key-value pairs from the dictionary d."
   ]
  },
  {
   "cell_type": "code",
   "execution_count": 17,
   "id": "c4b7c73a",
   "metadata": {},
   "outputs": [
    {
     "name": "stdout",
     "output_type": "stream",
     "text": [
      "{}\n"
     ]
    }
   ],
   "source": [
    "#for example:\n",
    "d = {'Name': 'John Doe', 'Age': 32, 'City': 'New York'}\n",
    "d.clear()\n",
    "print(d)"
   ]
  },
  {
   "cell_type": "markdown",
   "id": "52251952",
   "metadata": {},
   "source": [
    "- d.copy(): Returns a shallow copy of the dictionary d."
   ]
  },
  {
   "cell_type": "code",
   "execution_count": 18,
   "id": "e60d4a53",
   "metadata": {},
   "outputs": [
    {
     "name": "stdout",
     "output_type": "stream",
     "text": [
      "{'Name': 'mukesh', 'Age': 32, 'City': 'chandigarh'}\n"
     ]
    }
   ],
   "source": [
    "#for example:\n",
    "my_dict = {'Name': 'mukesh', 'Age': 32, 'City': 'chandigarh'}\n",
    "a=my_dict.copy()\n",
    "print(a)"
   ]
  },
  {
   "cell_type": "markdown",
   "id": "638e25ee",
   "metadata": {},
   "source": [
    "# SET DATA TYPE"
   ]
  },
  {
   "cell_type": "markdown",
   "id": "543094b6",
   "metadata": {},
   "source": [
    "- A Set is an unordered collection data type that is iterable, mutable, and has no duplicate elements."
   ]
  },
  {
   "cell_type": "markdown",
   "id": "bb232783",
   "metadata": {},
   "source": [
    "iterable:"
   ]
  },
  {
   "cell_type": "markdown",
   "id": "e102a895",
   "metadata": {},
   "source": [
    "- iterable is any object capable of returning its elements one at a time."
   ]
  },
  {
   "cell_type": "code",
   "execution_count": 1,
   "id": "5d25334d",
   "metadata": {},
   "outputs": [
    {
     "name": "stdout",
     "output_type": "stream",
     "text": [
      "{1, 2, 3, 4, 5, 7}\n",
      "<class 'set'>\n"
     ]
    }
   ],
   "source": [
    "l={1,2,3,1,3,4,7,4,5}\n",
    "print(l)\n",
    "print(type(l))"
   ]
  },
  {
   "cell_type": "code",
   "execution_count": 19,
   "id": "288d2b9d",
   "metadata": {},
   "outputs": [
    {
     "name": "stdout",
     "output_type": "stream",
     "text": [
      "{'banana', 1, 2, 'apple', 'cherry', 8, 9}\n",
      "<class 'set'>\n"
     ]
    }
   ],
   "source": [
    "a = {8,9,\"apple\", \"banana\", \"cherry\",1,2,8}\n",
    "print(a)\n",
    "print(type(a))"
   ]
  },
  {
   "cell_type": "code",
   "execution_count": 20,
   "id": "1733e396",
   "metadata": {},
   "outputs": [
    {
     "data": {
      "text/plain": [
       "{1, 2, 3, 4, 'bddfkij', 'cvdhjgv'}"
      ]
     },
     "execution_count": 20,
     "metadata": {},
     "output_type": "execute_result"
    }
   ],
   "source": [
    "a={\"cvdhjgv\",\"bddfkij\",1,2,3,4}\n",
    "a"
   ]
  },
  {
   "cell_type": "code",
   "execution_count": 30,
   "id": "0b2811da",
   "metadata": {},
   "outputs": [
    {
     "data": {
      "text/plain": [
       "{1, 2, 3, 4}"
      ]
     },
     "execution_count": 30,
     "metadata": {},
     "output_type": "execute_result"
    }
   ],
   "source": [
    "s={1,2,3,4,2,4,3}\n",
    "s"
   ]
  },
  {
   "cell_type": "code",
   "execution_count": 19,
   "id": "b7943130",
   "metadata": {},
   "outputs": [
    {
     "data": {
      "text/plain": [
       "{1, 2, 'preet'}"
      ]
     },
     "execution_count": 19,
     "metadata": {},
     "output_type": "execute_result"
    }
   ],
   "source": [
    "s={\"preet\",1,2}\n",
    "s"
   ]
  },
  {
   "cell_type": "markdown",
   "id": "f3cb2786",
   "metadata": {},
   "source": [
    "- Since sets are unordered, we cannot access items using indexes"
   ]
  },
  {
   "cell_type": "code",
   "execution_count": 11,
   "id": "74684df8",
   "metadata": {},
   "outputs": [
    {
     "name": "stdout",
     "output_type": "stream",
     "text": [
      "{'H', 'hey', 5, 'good', 78, 'hello', 'bye'}\n",
      "['H', 'hey', 5, 'good', 78, 'hello', 'bye']\n"
     ]
    }
   ],
   "source": [
    "#for example\n",
    "var = {\"hello\", \"hey\", \"bye\"}\n",
    "var.add(\"good\")\n",
    "var.add(5)\n",
    "var.add('H')\n",
    "var.add(78)\n",
    "print(var)\n",
    "print(list(var))"
   ]
  },
  {
   "cell_type": "code",
   "execution_count": 13,
   "id": "d937d529",
   "metadata": {},
   "outputs": [
    {
     "name": "stdout",
     "output_type": "stream",
     "text": [
      "{'y', 4, 5}\n"
     ]
    }
   ],
   "source": [
    "a=[\"y\",4,5]\n",
    "print(set(a))"
   ]
  },
  {
   "cell_type": "code",
   "execution_count": 14,
   "id": "67f27dd3",
   "metadata": {},
   "outputs": [
    {
     "name": "stdout",
     "output_type": "stream",
     "text": [
      "[1, 'y', 2, 3, 4]\n"
     ]
    },
    {
     "data": {
      "text/plain": [
       "{1, 2, 3, 4, 'y'}"
      ]
     },
     "execution_count": 14,
     "metadata": {},
     "output_type": "execute_result"
    }
   ],
   "source": [
    "a=[1,\"y\",2,3,4]\n",
    "print(a)\n",
    "m=set(a)\n",
    "\n",
    "m"
   ]
  },
  {
   "cell_type": "code",
   "execution_count": 15,
   "id": "f3c6947d",
   "metadata": {},
   "outputs": [
    {
     "name": "stdout",
     "output_type": "stream",
     "text": [
      "['hunny', 6, 7, 8, 'shivansh']\n",
      "{'shivansh', 6, 7, 8, 'hunny'}\n"
     ]
    }
   ],
   "source": [
    "l=[\"hunny\",6,7,8,\"shivansh\"]\n",
    "print(l)\n",
    "print(set(l))\n"
   ]
  },
  {
   "cell_type": "code",
   "execution_count": 21,
   "id": "728f97f4",
   "metadata": {
    "scrolled": true
   },
   "outputs": [
    {
     "name": "stdout",
     "output_type": "stream",
     "text": [
      "[4, 2, 5, 3]\n",
      "(4, 5, 2, 8)\n",
      "{8, 2, 4, 5}\n"
     ]
    }
   ],
   "source": [
    "# typecasting list to set\n",
    "a =[4,5,2,8]\n",
    "c =(4,2,5,3)\n",
    "m = set(a)\n",
    "#typecasting list\n",
    "b =tuple(a)\n",
    "print(list(c))\n",
    "print(b) \n",
    "print(m)"
   ]
  },
  {
   "cell_type": "code",
   "execution_count": 22,
   "id": "ade56a3f",
   "metadata": {},
   "outputs": [
    {
     "name": "stdout",
     "output_type": "stream",
     "text": [
      "{8, 9, 6, 7}\n"
     ]
    }
   ],
   "source": [
    "a=[6,7,8,9]\n",
    "c=set(a)\n",
    "print(c)"
   ]
  },
  {
   "cell_type": "markdown",
   "id": "1f575b4b",
   "metadata": {},
   "source": [
    "Unchangeable:"
   ]
  },
  {
   "cell_type": "markdown",
   "id": "e5863431",
   "metadata": {},
   "source": [
    "- Set items are unchangeable, meaning that we cannot change the items after the set has been created."
   ]
  },
  {
   "cell_type": "markdown",
   "id": "9ffa580e",
   "metadata": {},
   "source": [
    "- Once a set is created, you cannot change its items, but you can remove items and add new items."
   ]
  },
  {
   "cell_type": "markdown",
   "id": "795b0ed7",
   "metadata": {},
   "source": [
    "Duplicates Not Allowed:"
   ]
  },
  {
   "cell_type": "code",
   "execution_count": 17,
   "id": "d00d7ab8",
   "metadata": {},
   "outputs": [
    {
     "name": "stdout",
     "output_type": "stream",
     "text": [
      "{False, True, 'cherry', 'apple', 'banana'}\n"
     ]
    }
   ],
   "source": [
    "s = {\"apple\", \"banana\", \"cherry\", \"apple\",True,1, False, 0}\n",
    "print(s)"
   ]
  },
  {
   "cell_type": "code",
   "execution_count": 15,
   "id": "93f4ecec-d64a-497f-8903-aa8f0f5995f8",
   "metadata": {},
   "outputs": [
    {
     "name": "stdout",
     "output_type": "stream",
     "text": [
      "{1, 2, 4, 6, 7, 8, 9}\n"
     ]
    }
   ],
   "source": [
    "a={1,1,2,9,4,6,6,7,8}\n",
    "print(a)"
   ]
  },
  {
   "cell_type": "markdown",
   "id": "6858ea16",
   "metadata": {},
   "source": [
    "- Note: The values True and 1 are considered the same value in sets, and are treated as duplicates:"
   ]
  },
  {
   "cell_type": "code",
   "execution_count": 10,
   "id": "a5606786",
   "metadata": {},
   "outputs": [
    {
     "name": "stdout",
     "output_type": "stream",
     "text": [
      "{'banana', 'cherry', 'apple'}\n",
      "{1, 3, 5, 7, 9}\n",
      "{False, True}\n"
     ]
    }
   ],
   "source": [
    "#set items can be any data type\n",
    "#for example\n",
    "set1 = {\"apple\", \"banana\", \"cherry\"}\n",
    "set2 = {1, 5, 7, 9, 3}\n",
    "set3 = {True, False, 0,1}\n",
    "\n",
    "print(set1)\n",
    "print(set2)\n",
    "print(set3)"
   ]
  },
  {
   "cell_type": "markdown",
   "id": "2323eccd",
   "metadata": {},
   "source": [
    "- len(s): returns the number of elements in the set s."
   ]
  },
  {
   "cell_type": "code",
   "execution_count": 23,
   "id": "6a583b11-4888-4dd7-8bf5-bfff3fa0c3c8",
   "metadata": {},
   "outputs": [
    {
     "name": "stdout",
     "output_type": "stream",
     "text": [
      "6\n"
     ]
    }
   ],
   "source": [
    "s={1,2,3,4,5,6}\n",
    "print(len(s))"
   ]
  },
  {
   "cell_type": "code",
   "execution_count": 24,
   "id": "f83cf181",
   "metadata": {},
   "outputs": [
    {
     "name": "stdout",
     "output_type": "stream",
     "text": [
      "{1, 2, 3, 5}\n",
      "{1, 3, 5}\n",
      "1\n",
      "{3, 5}\n"
     ]
    }
   ],
   "source": [
    "s = {1, 2, 3}\n",
    "s.add(5)\n",
    "print(s)\n",
    "\n",
    "s.remove(2)\n",
    "print(s)\n",
    "a= s.pop()\n",
    "print(a)\n",
    "print(s)\n"
   ]
  },
  {
   "cell_type": "markdown",
   "id": "123fa27e",
   "metadata": {},
   "source": [
    "- s.add(x): adds element x to the set s"
   ]
  },
  {
   "cell_type": "code",
   "execution_count": 11,
   "id": "f26ffc28",
   "metadata": {},
   "outputs": [
    {
     "name": "stdout",
     "output_type": "stream",
     "text": [
      "{1, 2, 3, 'hello', 5, 'bvfhtg', 7, 8}\n"
     ]
    }
   ],
   "source": [
    "V = {1, 2, 5,3,8,7,'hello'}\n",
    "V.add(\"bvfhtg\")\n",
    "print(V)"
   ]
  },
  {
   "cell_type": "markdown",
   "id": "5e0bea63",
   "metadata": {},
   "source": [
    "- s.remove(x): removes element x from the set s. If x is not in the set"
   ]
  },
  {
   "cell_type": "code",
   "execution_count": 25,
   "id": "61632ab6",
   "metadata": {},
   "outputs": [
    {
     "name": "stdout",
     "output_type": "stream",
     "text": [
      "{1, 2, 3, 'hello'}\n"
     ]
    }
   ],
   "source": [
    "s = {1, 2, 3,\"bye\",'hello','bye'}\n",
    "s.remove('bye')\n",
    "print(s)"
   ]
  },
  {
   "cell_type": "markdown",
   "id": "420c3515",
   "metadata": {},
   "source": [
    "- s.pop(): removes and returns an arbitrary element from the set s"
   ]
  },
  {
   "cell_type": "code",
   "execution_count": 22,
   "id": "bcf96779",
   "metadata": {},
   "outputs": [
    {
     "name": "stdout",
     "output_type": "stream",
     "text": [
      "2\n",
      "{4, 5, 8, 'hello'}\n"
     ]
    }
   ],
   "source": [
    "# u= {1, 2, 3}\n",
    "# a ={4,2,5,7}\n",
    "f ={4,2,5,8,'hello'}\n",
    "r= f.pop()\n",
    "print(r)\n",
    "#print(a)\n",
    "print(f)\n",
    "\n"
   ]
  },
  {
   "cell_type": "code",
   "execution_count": 40,
   "id": "fcb72bda",
   "metadata": {},
   "outputs": [
    {
     "name": "stdout",
     "output_type": "stream",
     "text": [
      "1\n"
     ]
    },
    {
     "data": {
      "text/plain": [
       "{2, 3, 'hunny', 'preet'}"
      ]
     },
     "execution_count": 40,
     "metadata": {},
     "output_type": "execute_result"
    }
   ],
   "source": [
    "a={\"hunny\",1,2,3,\"preet\"}\n",
    "b=a.pop()\n",
    "print(b)\n",
    "a"
   ]
  },
  {
   "cell_type": "code",
   "execution_count": 29,
   "id": "b2aee012",
   "metadata": {},
   "outputs": [
    {
     "name": "stdout",
     "output_type": "stream",
     "text": [
      "1\n",
      "{2, 3, 4}\n"
     ]
    }
   ],
   "source": [
    "a={1,2,3,4}\n",
    "b=a.pop()\n",
    "print(b)\n",
    "print(a)"
   ]
  },
  {
   "cell_type": "markdown",
   "id": "723f997f",
   "metadata": {},
   "source": [
    "- s.union(t): returns the union of sets s and t as a new set."
   ]
  },
  {
   "cell_type": "code",
   "execution_count": 30,
   "id": "1010b4a2",
   "metadata": {},
   "outputs": [
    {
     "name": "stdout",
     "output_type": "stream",
     "text": [
      "{1, 2, 3, 5, 7, 8}\n",
      "{2}\n"
     ]
    }
   ],
   "source": [
    "\n",
    "s = {1, 2,2, 3}\n",
    "# t = {3, 4, 5}\n",
    "u = {5,2,8,7}\n",
    "print(s.union(u))\n",
    "print(s.intersection(u))\n"
   ]
  },
  {
   "cell_type": "markdown",
   "id": "e8153ef2",
   "metadata": {},
   "source": [
    "- s.intersection(t): returns the intersection of sets s and t as a new set"
   ]
  },
  {
   "cell_type": "code",
   "execution_count": null,
   "id": "f56d80df",
   "metadata": {},
   "outputs": [],
   "source": [
    "a={1,2,3}\n",
    "b={2,3,4}"
   ]
  },
  {
   "cell_type": "code",
   "execution_count": 26,
   "id": "86220e37",
   "metadata": {},
   "outputs": [
    {
     "data": {
      "text/plain": [
       "{2, 3, 4}"
      ]
     },
     "execution_count": 26,
     "metadata": {},
     "output_type": "execute_result"
    }
   ],
   "source": [
    "s = {1, 2,4 ,3}\n",
    "t = {2, 3 ,4,4}\n",
    "s.intersection(t)"
   ]
  },
  {
   "cell_type": "markdown",
   "id": "67bb327a",
   "metadata": {},
   "source": [
    "- s.clear(): removes all elements from the set s."
   ]
  },
  {
   "cell_type": "code",
   "execution_count": 12,
   "id": "00b091f1",
   "metadata": {},
   "outputs": [
    {
     "data": {
      "text/plain": [
       "set()"
      ]
     },
     "execution_count": 12,
     "metadata": {},
     "output_type": "execute_result"
    }
   ],
   "source": [
    "s = {1, 2, 3}\n",
    "s.clear()\n",
    "s"
   ]
  },
  {
   "cell_type": "markdown",
   "id": "b4323a70",
   "metadata": {},
   "source": [
    "- s.copy(): returns a shallow copy of the set s."
   ]
  },
  {
   "cell_type": "code",
   "execution_count": 34,
   "id": "5d98a842",
   "metadata": {},
   "outputs": [
    {
     "data": {
      "text/plain": [
       "{1, 2, 3}"
      ]
     },
     "execution_count": 34,
     "metadata": {},
     "output_type": "execute_result"
    }
   ],
   "source": [
    "s = {1, 2, 3}\n",
    "t = s.copy()\n",
    "t"
   ]
  },
  {
   "cell_type": "markdown",
   "id": "138970f7",
   "metadata": {},
   "source": [
    " update() :"
   ]
  },
  {
   "cell_type": "code",
   "execution_count": 31,
   "id": "54fb1743",
   "metadata": {},
   "outputs": [
    {
     "name": "stdout",
     "output_type": "stream",
     "text": [
      "{'c', 1, 3, 2, 'b', 'rahul', 'a'}\n"
     ]
    }
   ],
   "source": [
    "set1 = {\"a\", \"b\" , 3,\"c\"}\n",
    "set2 = {1, 2, 3,\"rahul\"}\n",
    "set1.update(set2)\n",
    "print(set1)\n"
   ]
  },
  {
   "cell_type": "code",
   "execution_count": null,
   "id": "6fca71ab",
   "metadata": {},
   "outputs": [],
   "source": []
  },
  {
   "cell_type": "code",
   "execution_count": 43,
   "id": "1502dae3",
   "metadata": {},
   "outputs": [
    {
     "name": "stdout",
     "output_type": "stream",
     "text": [
      "{1, 3}\n"
     ]
    }
   ],
   "source": [
    "s={1,2,3}\n",
    "s.discard(2)\n",
    "print(s)"
   ]
  },
  {
   "cell_type": "code",
   "execution_count": 39,
   "id": "7197d87c",
   "metadata": {
    "scrolled": true
   },
   "outputs": [
    {
     "name": "stdout",
     "output_type": "stream",
     "text": [
      "False\n",
      "{8}\n"
     ]
    }
   ],
   "source": [
    "a={2,3,8}\n",
    "b={2,3,5,4}\n",
    "c=a.difference(b)\n",
    "d=a.issubset(b)\n",
    "print(d)\n",
    "print(c)"
   ]
  },
  {
   "cell_type": "code",
   "execution_count": 42,
   "id": "18d919e9",
   "metadata": {},
   "outputs": [
    {
     "name": "stdout",
     "output_type": "stream",
     "text": [
      "True\n"
     ]
    }
   ],
   "source": [
    "a={1,2,3,4}\n",
    "b={3,4}\n",
    "# b={1,2,3,4,5,6}\n",
    "d= b.issubset(a)\n",
    "print(d)"
   ]
  },
  {
   "cell_type": "code",
   "execution_count": null,
   "id": "6d2ea09c-ed8e-4f6b-89bc-67163689e924",
   "metadata": {},
   "outputs": [],
   "source": []
  },
  {
   "cell_type": "code",
   "execution_count": null,
   "id": "9b4c4d74",
   "metadata": {},
   "outputs": [],
   "source": []
  },
  {
   "cell_type": "code",
   "execution_count": 3,
   "id": "f1fa2d66",
   "metadata": {},
   "outputs": [
    {
     "name": "stdout",
     "output_type": "stream",
     "text": [
      "1\n",
      "2\n",
      "3\n",
      "4\n",
      "5\n",
      "6\n",
      "7\n",
      "8\n",
      "9\n",
      "10\n",
      "11\n",
      "12\n",
      "13\n",
      "14\n",
      "15\n",
      "16\n",
      "17\n",
      "18\n",
      "19\n",
      "20\n",
      "21\n",
      "22\n",
      "23\n",
      "24\n",
      "25\n",
      "26\n",
      "27\n",
      "28\n",
      "29\n",
      "30\n",
      "31\n",
      "32\n",
      "33\n",
      "34\n",
      "35\n",
      "36\n",
      "37\n",
      "38\n",
      "39\n",
      "40\n",
      "41\n",
      "42\n",
      "43\n",
      "44\n",
      "45\n",
      "46\n",
      "47\n",
      "48\n",
      "49\n",
      "50\n",
      "51\n",
      "52\n",
      "53\n",
      "54\n",
      "55\n",
      "56\n",
      "57\n",
      "58\n",
      "59\n",
      "60\n",
      "61\n",
      "62\n",
      "63\n",
      "64\n",
      "65\n",
      "66\n",
      "67\n",
      "68\n",
      "69\n",
      "70\n",
      "71\n",
      "72\n",
      "73\n",
      "74\n",
      "75\n",
      "76\n",
      "77\n",
      "78\n",
      "79\n",
      "80\n",
      "81\n",
      "82\n",
      "83\n",
      "84\n",
      "85\n",
      "86\n",
      "87\n",
      "88\n",
      "89\n",
      "90\n",
      "91\n",
      "92\n",
      "93\n",
      "94\n",
      "95\n",
      "96\n",
      "97\n",
      "98\n",
      "99\n"
     ]
    }
   ],
   "source": [
    "#for i in range(1,100):\n",
    "    print(i)"
   ]
  }
 ],
 "metadata": {
  "kernelspec": {
   "display_name": "Python 3 (ipykernel)",
   "language": "python",
   "name": "python3"
  },
  "language_info": {
   "codemirror_mode": {
    "name": "ipython",
    "version": 3
   },
   "file_extension": ".py",
   "mimetype": "text/x-python",
   "name": "python",
   "nbconvert_exporter": "python",
   "pygments_lexer": "ipython3",
   "version": "3.13.3"
  },
  "vscode": {
   "interpreter": {
    "hash": "72b2382ece9768098284d92bbc69d35954e75b60d1e25897d1389c232f4796f0"
   }
  }
 },
 "nbformat": 4,
 "nbformat_minor": 5
}
